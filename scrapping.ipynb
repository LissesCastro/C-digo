{
 "cells": [
  {
   "cell_type": "code",
   "execution_count": 1,
   "metadata": {},
   "outputs": [],
   "source": [
    "from selenium import webdriver\n",
    "from selenium.webdriver.common.keys import Keys\n",
    "from bs4 import BeautifulSoup\n",
    "import time\n",
    "import random"
   ]
  },
  {
   "cell_type": "code",
   "execution_count": 2,
   "metadata": {},
   "outputs": [],
   "source": [
    "# Inicialize o driver (Chrome neste caso)\n",
    "driver = webdriver.Chrome()\n",
    "\n",
    "# Acesse o site que contém o catálogo\n",
    "url = \"https://www.zapimoveis.com.br/venda/apartamentos/sp+sao-paulo/?transacao=venda&onde=,S%C3%A3o%20Paulo,S%C3%A3o%20Paulo,,,,,city,BR%3ESao%20Paulo%3ENULL%3ESao%20Paulo,-21.292246,-50.342843,&tipos=apartamento_residencial,studio_residencial,kitnet_residencial,casa_residencial,sobrado_residencial&itl_id=1000072&itl_name=zap_-_botao-cta_buscar_to_zap_resultado-pesquisa\"\n",
    "driver.get(url)"
   ]
  },
  {
   "cell_type": "code",
   "execution_count": 3,
   "metadata": {},
   "outputs": [
    {
     "ename": "NoSuchWindowException",
     "evalue": "Message: no such window: target window already closed\nfrom unknown error: web view not found\n  (Session info: chrome=130.0.6723.58)\nStacktrace:\n\tGetHandleVerifier [0x00007FF7E694E1F5+2972373]\n\t(No symbol) [0x00007FF7E65E55F0]\n\t(No symbol) [0x00007FF7E64857FA]\n\t(No symbol) [0x00007FF7E645FA85]\n\t(No symbol) [0x00007FF7E6502B17]\n\t(No symbol) [0x00007FF7E651B1D1]\n\t(No symbol) [0x00007FF7E64FB823]\n\t(No symbol) [0x00007FF7E64C75E8]\n\t(No symbol) [0x00007FF7E64C8751]\n\tGetHandleVerifier [0x00007FF7E69747BD+3129501]\n\tGetHandleVerifier [0x00007FF7E69C4D00+3458528]\n\tGetHandleVerifier [0x00007FF7E69BB05D+3418429]\n\tGetHandleVerifier [0x00007FF7E674687B+844123]\n\t(No symbol) [0x00007FF7E65F0AFF]\n\t(No symbol) [0x00007FF7E65EC6D4]\n\t(No symbol) [0x00007FF7E65EC86D]\n\t(No symbol) [0x00007FF7E65DBD79]\n\tBaseThreadInitThunk [0x00007FFE218A7374+20]\n\tRtlUserThreadStart [0x00007FFE22BFCC91+33]\n",
     "output_type": "error",
     "traceback": [
      "\u001b[1;31m---------------------------------------------------------------------------\u001b[0m",
      "\u001b[1;31mNoSuchWindowException\u001b[0m                     Traceback (most recent call last)",
      "Cell \u001b[1;32mIn[3], line 18\u001b[0m\n\u001b[0;32m     14\u001b[0m \u001b[38;5;28;01mwhile\u001b[39;00m \u001b[38;5;28;01mTrue\u001b[39;00m:\n\u001b[0;32m     15\u001b[0m     \n\u001b[0;32m     16\u001b[0m     \u001b[38;5;66;03m# Espere carregar a nova seção\u001b[39;00m\n\u001b[0;32m     17\u001b[0m     time\u001b[38;5;241m.\u001b[39msleep(SCROLL_PAUSE_TIME)\n\u001b[1;32m---> 18\u001b[0m     \u001b[43mdriver\u001b[49m\u001b[38;5;241;43m.\u001b[39;49m\u001b[43mexecute_script\u001b[49m\u001b[43m(\u001b[49m\u001b[38;5;124;43mf\u001b[39;49m\u001b[38;5;124;43m\"\u001b[39;49m\u001b[38;5;124;43mwindow.scrollBy(0, 500);\u001b[39;49m\u001b[38;5;124;43m\"\u001b[39;49m\u001b[43m)\u001b[49m\n\u001b[0;32m     19\u001b[0m     altura_mouse \u001b[38;5;241m+\u001b[39m\u001b[38;5;241m=\u001b[39m \u001b[38;5;241m500\u001b[39m\n\u001b[0;32m     21\u001b[0m     \u001b[38;5;66;03m# Verifique a nova altura da página\u001b[39;00m\n",
      "File \u001b[1;32mc:\\Users\\Pichau\\AppData\\Local\\Programs\\Python\\Python312\\Lib\\site-packages\\selenium\\webdriver\\remote\\webdriver.py:414\u001b[0m, in \u001b[0;36mWebDriver.execute_script\u001b[1;34m(self, script, *args)\u001b[0m\n\u001b[0;32m    411\u001b[0m converted_args \u001b[38;5;241m=\u001b[39m \u001b[38;5;28mlist\u001b[39m(args)\n\u001b[0;32m    412\u001b[0m command \u001b[38;5;241m=\u001b[39m Command\u001b[38;5;241m.\u001b[39mW3C_EXECUTE_SCRIPT\n\u001b[1;32m--> 414\u001b[0m \u001b[38;5;28;01mreturn\u001b[39;00m \u001b[38;5;28;43mself\u001b[39;49m\u001b[38;5;241;43m.\u001b[39;49m\u001b[43mexecute\u001b[49m\u001b[43m(\u001b[49m\u001b[43mcommand\u001b[49m\u001b[43m,\u001b[49m\u001b[43m \u001b[49m\u001b[43m{\u001b[49m\u001b[38;5;124;43m\"\u001b[39;49m\u001b[38;5;124;43mscript\u001b[39;49m\u001b[38;5;124;43m\"\u001b[39;49m\u001b[43m:\u001b[49m\u001b[43m \u001b[49m\u001b[43mscript\u001b[49m\u001b[43m,\u001b[49m\u001b[43m \u001b[49m\u001b[38;5;124;43m\"\u001b[39;49m\u001b[38;5;124;43margs\u001b[39;49m\u001b[38;5;124;43m\"\u001b[39;49m\u001b[43m:\u001b[49m\u001b[43m \u001b[49m\u001b[43mconverted_args\u001b[49m\u001b[43m}\u001b[49m\u001b[43m)\u001b[49m[\u001b[38;5;124m\"\u001b[39m\u001b[38;5;124mvalue\u001b[39m\u001b[38;5;124m\"\u001b[39m]\n",
      "File \u001b[1;32mc:\\Users\\Pichau\\AppData\\Local\\Programs\\Python\\Python312\\Lib\\site-packages\\selenium\\webdriver\\remote\\webdriver.py:354\u001b[0m, in \u001b[0;36mWebDriver.execute\u001b[1;34m(self, driver_command, params)\u001b[0m\n\u001b[0;32m    352\u001b[0m response \u001b[38;5;241m=\u001b[39m \u001b[38;5;28mself\u001b[39m\u001b[38;5;241m.\u001b[39mcommand_executor\u001b[38;5;241m.\u001b[39mexecute(driver_command, params)\n\u001b[0;32m    353\u001b[0m \u001b[38;5;28;01mif\u001b[39;00m response:\n\u001b[1;32m--> 354\u001b[0m     \u001b[38;5;28;43mself\u001b[39;49m\u001b[38;5;241;43m.\u001b[39;49m\u001b[43merror_handler\u001b[49m\u001b[38;5;241;43m.\u001b[39;49m\u001b[43mcheck_response\u001b[49m\u001b[43m(\u001b[49m\u001b[43mresponse\u001b[49m\u001b[43m)\u001b[49m\n\u001b[0;32m    355\u001b[0m     response[\u001b[38;5;124m\"\u001b[39m\u001b[38;5;124mvalue\u001b[39m\u001b[38;5;124m\"\u001b[39m] \u001b[38;5;241m=\u001b[39m \u001b[38;5;28mself\u001b[39m\u001b[38;5;241m.\u001b[39m_unwrap_value(response\u001b[38;5;241m.\u001b[39mget(\u001b[38;5;124m\"\u001b[39m\u001b[38;5;124mvalue\u001b[39m\u001b[38;5;124m\"\u001b[39m, \u001b[38;5;28;01mNone\u001b[39;00m))\n\u001b[0;32m    356\u001b[0m     \u001b[38;5;28;01mreturn\u001b[39;00m response\n",
      "File \u001b[1;32mc:\\Users\\Pichau\\AppData\\Local\\Programs\\Python\\Python312\\Lib\\site-packages\\selenium\\webdriver\\remote\\errorhandler.py:229\u001b[0m, in \u001b[0;36mErrorHandler.check_response\u001b[1;34m(self, response)\u001b[0m\n\u001b[0;32m    227\u001b[0m         alert_text \u001b[38;5;241m=\u001b[39m value[\u001b[38;5;124m\"\u001b[39m\u001b[38;5;124malert\u001b[39m\u001b[38;5;124m\"\u001b[39m]\u001b[38;5;241m.\u001b[39mget(\u001b[38;5;124m\"\u001b[39m\u001b[38;5;124mtext\u001b[39m\u001b[38;5;124m\"\u001b[39m)\n\u001b[0;32m    228\u001b[0m     \u001b[38;5;28;01mraise\u001b[39;00m exception_class(message, screen, stacktrace, alert_text)  \u001b[38;5;66;03m# type: ignore[call-arg]  # mypy is not smart enough here\u001b[39;00m\n\u001b[1;32m--> 229\u001b[0m \u001b[38;5;28;01mraise\u001b[39;00m exception_class(message, screen, stacktrace)\n",
      "\u001b[1;31mNoSuchWindowException\u001b[0m: Message: no such window: target window already closed\nfrom unknown error: web view not found\n  (Session info: chrome=130.0.6723.58)\nStacktrace:\n\tGetHandleVerifier [0x00007FF7E694E1F5+2972373]\n\t(No symbol) [0x00007FF7E65E55F0]\n\t(No symbol) [0x00007FF7E64857FA]\n\t(No symbol) [0x00007FF7E645FA85]\n\t(No symbol) [0x00007FF7E6502B17]\n\t(No symbol) [0x00007FF7E651B1D1]\n\t(No symbol) [0x00007FF7E64FB823]\n\t(No symbol) [0x00007FF7E64C75E8]\n\t(No symbol) [0x00007FF7E64C8751]\n\tGetHandleVerifier [0x00007FF7E69747BD+3129501]\n\tGetHandleVerifier [0x00007FF7E69C4D00+3458528]\n\tGetHandleVerifier [0x00007FF7E69BB05D+3418429]\n\tGetHandleVerifier [0x00007FF7E674687B+844123]\n\t(No symbol) [0x00007FF7E65F0AFF]\n\t(No symbol) [0x00007FF7E65EC6D4]\n\t(No symbol) [0x00007FF7E65EC86D]\n\t(No symbol) [0x00007FF7E65DBD79]\n\tBaseThreadInitThunk [0x00007FFE218A7374+20]\n\tRtlUserThreadStart [0x00007FFE22BFCC91+33]\n"
     ]
    }
   ],
   "source": [
    "# Defina o tempo de espera para garantir que os elementos carreguem\n",
    "SCROLL_PAUSE_TIME = 3\n",
    "\n",
    "# Pegue a altura inicial da página\n",
    "altura_pagina = driver.execute_script(\"return document.body.scrollHeight\")\n",
    "\n",
    "# Calcule 70% da altura total da página\n",
    "scroll = altura_pagina * 0.6\n",
    "altura_mouse = scroll\n",
    "\n",
    "# Role a página 60% da altura total\n",
    "driver.execute_script(f\"window.scrollBy(0, {scroll});\")\n",
    "\n",
    "while True:\n",
    "    \n",
    "    # Espere carregar a nova seção\n",
    "    time.sleep(SCROLL_PAUSE_TIME)\n",
    "    driver.execute_script(f\"window.scrollBy(0, 3000);\")\n",
    "    altura_mouse += 3000\n",
    "\n",
    "    # Verifique a nova altura da página\n",
    "    new_height = driver.execute_script(\"return document.body.scrollHeight\")\n",
    "    \n",
    "    \n",
    "    # Se a altura da página não mudar, significa que o fim foi atingido\n",
    "    if new_height == altura_mouse:\n",
    "        break"
   ]
  }
 ],
 "metadata": {
  "kernelspec": {
   "display_name": "Python 3",
   "language": "python",
   "name": "python3"
  },
  "language_info": {
   "codemirror_mode": {
    "name": "ipython",
    "version": 3
   },
   "file_extension": ".py",
   "mimetype": "text/x-python",
   "name": "python",
   "nbconvert_exporter": "python",
   "pygments_lexer": "ipython3",
   "version": "3.12.4"
  }
 },
 "nbformat": 4,
 "nbformat_minor": 2
}
