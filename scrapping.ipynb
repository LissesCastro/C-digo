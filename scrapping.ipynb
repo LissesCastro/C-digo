{
 "cells": [
  {
   "cell_type": "code",
   "execution_count": 2,
   "metadata": {},
   "outputs": [],
   "source": [
    "#Import das bibliotecas\n",
    "from selenium import webdriver\n",
    "from selenium.webdriver.common.by import By\n",
    "from bs4 import BeautifulSoup\n",
    "import requests\n",
    "import time\n",
    "import random\n",
    "import csv"
   ]
  },
  {
   "cell_type": "code",
   "execution_count": 5,
   "metadata": {},
   "outputs": [],
   "source": [
    "def retorna_pagina(i):\n",
    "    # Inicialize o driver (Chrome neste caso)\n",
    "    driver = webdriver.Chrome()\n",
    "\n",
    "    url = f\"https://www.zapimoveis.com.br/venda/apartamentos/sp+sao-paulo/?pagina={i}\"\n",
    "    driver.get(url)\n",
    "    return driver"
   ]
  },
  {
   "cell_type": "markdown",
   "metadata": {},
   "source": [
    "### 1. Obtendo os links de todos os imóveis\n",
    "- Scrolla a página de catálogo\n",
    "- Aguarda novos imóveis aparecerem\n",
    "- Realiza o loop até toda a página de catálogo ser revelada\n",
    "- Captura os links da página"
   ]
  },
  {
   "cell_type": "markdown",
   "metadata": {},
   "source": [
    "#### Scrollando a página até o fim"
   ]
  },
  {
   "cell_type": "raw",
   "metadata": {
    "vscode": {
     "languageId": "raw"
    }
   },
   "source": [
    "dict_pagina_links = {}\n",
    "\n",
    "for i in range(1, 101):\n",
    "\n",
    "    driver = retorna_pagina(i)\n",
    "    print(i)\n",
    "    # Defina o tempo de espera para garantir que os elementos carreguem\n",
    "    T_ESPERA = 2.5\n",
    "\n",
    "    # Pegue a altura inicial da página\n",
    "    altura_pagina = driver.execute_script(\"return document.body.scrollHeight\")\n",
    "\n",
    "    # Calcule 70% da altura total da página\n",
    "    scroll = altura_pagina * 0.6\n",
    "    altura_mouse = scroll\n",
    "\n",
    "    # Role a página 60% da altura total\n",
    "    driver.execute_script(f\"window.scrollBy(0, {scroll});\")\n",
    "\n",
    "    while True:\n",
    "        \n",
    "        # Espere carregar a nova seção\n",
    "        time.sleep(T_ESPERA)\n",
    "        driver.execute_script(f\"window.scrollBy(0, 400);\")\n",
    "        altura_mouse += 400\n",
    "\n",
    "        # Verifique a nova altura da página\n",
    "        new_height = driver.execute_script(\"return document.body.scrollHeight\")\n",
    "        \n",
    "        # Se a altura da página não mudar, significa que o fim foi atingido\n",
    "        if altura_mouse >= new_height:\n",
    "            break\n",
    "\n",
    "    # Encontra todos os elementos principais\n",
    "    links = driver.find_elements(By.TAG_NAME, \"a\")\n",
    "\n",
    "    # Obtém todos os links a partir dos elementos principais\n",
    "    hrefs = [link.get_attribute('href') for link in links]\n",
    "\n",
    "    hrefs = [item for item in hrefs if 'https://www.zapimoveis.com.br/imovel/' in item]\n",
    "\n",
    "    dict_pagina_links[f'pagina_{i}'] = hrefs\n",
    "\n",
    "    driver.close()"
   ]
  },
  {
   "cell_type": "raw",
   "metadata": {
    "vscode": {
     "languageId": "raw"
    }
   },
   "source": [
    "with open('links.csv', 'w', newline='') as file:\n",
    "    writer = csv.writer(file)\n",
    "    writer.writerow(['Pagina', 'Link'])  # Cabeçalho\n",
    "    for key, value in dict_pagina_links.items():\n",
    "        writer.writerow([key, value])"
   ]
  },
  {
   "cell_type": "markdown",
   "metadata": {},
   "source": [
    "### 2. Raspando informações sobre os imóveis\n",
    "\n",
    "- Abre cada link de página obtido na etapa anterior\n",
    "- Obtém as informações categóricas do imóvel\n",
    "- Obtém as informações quantitativas do imóvel\n",
    "- Verifica as variáveis dummies associadas aos itens que o imóvel possui\n",
    "- Caso o imóvel possua uma característica ainda não listada, cria uma coluna com a característica = True"
   ]
  },
  {
   "cell_type": "code",
   "execution_count": 13,
   "metadata": {},
   "outputs": [],
   "source": [
    "link = 'https://www.zapimoveis.com.br/imovel/venda-apartamento-2-quartos-com-piscina-pinheiros-zona-oeste-sao-paulo-sp-84m2-id-2663592070/'"
   ]
  },
  {
   "cell_type": "code",
   "execution_count": 14,
   "metadata": {},
   "outputs": [
    {
     "name": "stdout",
     "output_type": "stream",
     "text": [
      "R$ 1.450.000\n"
     ]
    }
   ],
   "source": [
    "driver = webdriver.Chrome()\n",
    "driver.get(link)\n",
    "teste = driver.find_element(By.XPATH, '/html/body/div[2]/div[1]/div[1]/div[1]/div[3]/div/div[1]/div[1]/p[2]')\n",
    "print(teste.text)"
   ]
  }
 ],
 "metadata": {
  "kernelspec": {
   "display_name": "Python 3",
   "language": "python",
   "name": "python3"
  },
  "language_info": {
   "codemirror_mode": {
    "name": "ipython",
    "version": 3
   },
   "file_extension": ".py",
   "mimetype": "text/x-python",
   "name": "python",
   "nbconvert_exporter": "python",
   "pygments_lexer": "ipython3",
   "version": "3.12.4"
  }
 },
 "nbformat": 4,
 "nbformat_minor": 2
}
