{
 "cells": [
  {
   "cell_type": "code",
   "execution_count": 1,
   "metadata": {},
   "outputs": [],
   "source": [
    "#Import das bibliotecas\n",
    "from selenium import webdriver\n",
    "from selenium.webdriver.common.by import By\n",
    "from selenium.webdriver.common.action_chains import ActionChains\n",
    "import time\n",
    "import pandas as pd "
   ]
  },
  {
   "cell_type": "code",
   "execution_count": 2,
   "metadata": {},
   "outputs": [],
   "source": [
    "driver = webdriver.Chrome()"
   ]
  },
  {
   "cell_type": "code",
   "execution_count": 3,
   "metadata": {},
   "outputs": [],
   "source": [
    "def retorna_pagina(i):\n",
    "    # Inicialize o driver (Chrome neste caso)\n",
    "    driver = webdriver.Chrome()\n",
    "\n",
    "    url = f\"https://www.zapimoveis.com.br/venda/apartamentos/sp+sao-paulo/?pagina={i}\"\n",
    "    driver.get(url)\n",
    "    return driver"
   ]
  },
  {
   "cell_type": "markdown",
   "metadata": {},
   "source": [
    "### 1. Obtendo os links de todos os imóveis\n",
    "- Scrolla a página de catálogo\n",
    "- Aguarda novos imóveis aparecerem\n",
    "- Realiza o loop até toda a página de catálogo ser revelada\n",
    "- Captura os links da página"
   ]
  },
  {
   "cell_type": "markdown",
   "metadata": {},
   "source": [
    "#### Scrollando a página até o fim"
   ]
  },
  {
   "cell_type": "raw",
   "metadata": {
    "vscode": {
     "languageId": "raw"
    }
   },
   "source": [
    "dict_pagina_links = {}\n",
    "\n",
    "for i in range(1, 101):\n",
    "\n",
    "    driver = retorna_pagina(i)\n",
    "    print(i)\n",
    "    # Defina o tempo de espera para garantir que os elementos carreguem\n",
    "    T_ESPERA = 2.5\n",
    "\n",
    "    # Pegue a altura inicial da página\n",
    "    altura_pagina = driver.execute_script(\"return document.body.scrollHeight\")\n",
    "\n",
    "    # Calcule 70% da altura total da página\n",
    "    scroll = altura_pagina * 0.6\n",
    "    altura_mouse = scroll\n",
    "\n",
    "    # Role a página 60% da altura total\n",
    "    driver.execute_script(f\"window.scrollBy(0, {scroll});\")\n",
    "\n",
    "    while True:\n",
    "        \n",
    "        # Espere carregar a nova seção\n",
    "        time.sleep(T_ESPERA)\n",
    "        driver.execute_script(f\"window.scrollBy(0, 400);\")\n",
    "        altura_mouse += 400\n",
    "\n",
    "        # Verifique a nova altura da página\n",
    "        new_height = driver.execute_script(\"return document.body.scrollHeight\")\n",
    "        \n",
    "        # Se a altura da página não mudar, significa que o fim foi atingido\n",
    "        if altura_mouse >= new_height:\n",
    "            break\n",
    "\n",
    "    # Encontra todos os elementos principais\n",
    "    links = driver.find_elements(By.TAG_NAME, \"a\")\n",
    "\n",
    "    # Obtém todos os links a partir dos elementos principais\n",
    "    hrefs = [link.get_attribute('href') for link in links]\n",
    "\n",
    "    hrefs = [item for item in hrefs if 'https://www.zapimoveis.com.br/imovel/' in item]\n",
    "\n",
    "    dict_pagina_links[f'pagina_{i}'] = hrefs\n",
    "\n",
    "    driver.close()"
   ]
  },
  {
   "cell_type": "raw",
   "metadata": {
    "vscode": {
     "languageId": "raw"
    }
   },
   "source": [
    "with open('links.csv', 'w', newline='') as file:\n",
    "    writer = csv.writer(file)\n",
    "    writer.writerow(['Pagina', 'Link'])  # Cabeçalho\n",
    "    for key, value in dict_pagina_links.items():\n",
    "        writer.writerow([key, value])"
   ]
  },
  {
   "cell_type": "markdown",
   "metadata": {},
   "source": [
    "### 2. Raspando informações sobre os imóveis\n",
    "\n",
    "- Abre cada link de página obtido na etapa anterior\n",
    "- Obtém as informações categóricas do imóvel\n",
    "- Obtém as informações quantitativas do imóvel\n",
    "- Verifica as variáveis dummies associadas aos itens que o imóvel possui\n",
    "- Caso o imóvel possua uma característica ainda não listada, cria uma coluna com a característica = True"
   ]
  },
  {
   "cell_type": "code",
   "execution_count": 4,
   "metadata": {},
   "outputs": [],
   "source": [
    "link = 'https://www.zapimoveis.com.br/imovel/venda-apartamento-4-quartos-com-piscina-perdizes-zona-oeste-sao-paulo-sp-250m2-id-2675819543/'"
   ]
  },
  {
   "cell_type": "code",
   "execution_count": 64,
   "metadata": {},
   "outputs": [
    {
     "data": {
      "text/plain": [
       "'https://www.zapimoveis.com.br/imovel/venda-apartamento-3-quartos-com-churrasqueira-campo-belo-zona-sul-sao-paulo-sp-135m2-id-2663170169/'"
      ]
     },
     "execution_count": 64,
     "metadata": {},
     "output_type": "execute_result"
    }
   ],
   "source": [
    "link"
   ]
  },
  {
   "cell_type": "code",
   "execution_count": 8,
   "metadata": {},
   "outputs": [],
   "source": [
    "dict_str_var = {'m²': 'area',\n",
    "                'quarto': 'quartos',\n",
    "                'banheiro': 'banheiros',\n",
    "                'vaga': 'vagas',\n",
    "                'suíte': 'suites',\n",
    "                ' andar': 'pavimento',\n",
    "                'Dependência de empregados': 'tem_quarto_empregado',\n",
    "                'Área de serviço': 'tem_area_servico',\n",
    "                'Depósito': 'tem_deposito',\n",
    "                'Mobiliado': 'mobiliado',\n",
    "                'Piscina': 'tem_piscina',\n",
    "                'Elevador': 'tem_elevador',\n",
    "                'Área de lazer': 'area_de_lazer',\n",
    "                'Academia': 'tem_academia',\n",
    "                'Churrasqueira': 'tem_churrasqueira',\n",
    "                'Lavanderia': 'tem_lavanderia',\n",
    "                'Playground': 'tem_playground',\n",
    "                'Quadra poliesportiva': 'tem_quadra',\n",
    "                'Salão de festas': 'tem_salao_festas',\n",
    "                'Sauna': 'tem_sauna',\n",
    "                'Bicicletário': 'tem_bicicletario',\n",
    "                'Salão de jogos': 'tem_salao_jogos',\n",
    "                'Varanda gourmet': 'tem_varanda_gourmet',\n",
    "                'Ar-condicionado': 'tem_ar_condicionado',\n",
    "                'Espaço Pet': 'tem_espaco_pet',\n",
    "                'Closet': 'tem_closet'}"
   ]
  },
  {
   "cell_type": "code",
   "execution_count": null,
   "metadata": {},
   "outputs": [
    {
     "data": {
      "text/html": [
       "<div>\n",
       "<style scoped>\n",
       "    .dataframe tbody tr th:only-of-type {\n",
       "        vertical-align: middle;\n",
       "    }\n",
       "\n",
       "    .dataframe tbody tr th {\n",
       "        vertical-align: top;\n",
       "    }\n",
       "\n",
       "    .dataframe thead th {\n",
       "        text-align: right;\n",
       "    }\n",
       "</style>\n",
       "<table border=\"1\" class=\"dataframe\">\n",
       "  <thead>\n",
       "    <tr style=\"text-align: right;\">\n",
       "      <th></th>\n",
       "      <th>valor_venda</th>\n",
       "      <th>valor_condominio</th>\n",
       "      <th>valor_iptu</th>\n",
       "      <th>area</th>\n",
       "      <th>quartos</th>\n",
       "      <th>banheiros</th>\n",
       "      <th>vagas</th>\n",
       "      <th>suites</th>\n",
       "      <th>endereco</th>\n",
       "      <th>pavimento</th>\n",
       "      <th>...</th>\n",
       "      <th>tem_playground</th>\n",
       "      <th>tem_quadra</th>\n",
       "      <th>tem_salao_festas</th>\n",
       "      <th>tem_sauna</th>\n",
       "      <th>tem_bicicletario</th>\n",
       "      <th>tem_salao_jogos</th>\n",
       "      <th>tem_varanda_gourmet</th>\n",
       "      <th>tem_ar_condicionado</th>\n",
       "      <th>tem_espaco_pet</th>\n",
       "      <th>tem_closet</th>\n",
       "    </tr>\n",
       "  </thead>\n",
       "  <tbody>\n",
       "    <tr>\n",
       "      <th>0</th>\n",
       "      <td>None</td>\n",
       "      <td>None</td>\n",
       "      <td>None</td>\n",
       "      <td>49 m²</td>\n",
       "      <td>2 quartos</td>\n",
       "      <td>1 banheiro</td>\n",
       "      <td>1 vaga</td>\n",
       "      <td>None</td>\n",
       "      <td>None</td>\n",
       "      <td>11 andar</td>\n",
       "      <td>...</td>\n",
       "      <td>Playground</td>\n",
       "      <td>Quadra poliesportiva</td>\n",
       "      <td>Salão de festas</td>\n",
       "      <td>None</td>\n",
       "      <td>None</td>\n",
       "      <td>None</td>\n",
       "      <td>None</td>\n",
       "      <td>None</td>\n",
       "      <td>None</td>\n",
       "      <td>None</td>\n",
       "    </tr>\n",
       "  </tbody>\n",
       "</table>\n",
       "<p>1 rows × 30 columns</p>\n",
       "</div>"
      ],
      "text/plain": [
       "  valor_venda valor_condominio valor_iptu   area    quartos   banheiros  \\\n",
       "0        None             None       None  49 m²  2 quartos  1 banheiro   \n",
       "\n",
       "    vagas suites endereco pavimento  ... tem_playground            tem_quadra  \\\n",
       "0  1 vaga   None     None  11 andar  ...     Playground  Quadra poliesportiva   \n",
       "\n",
       "  tem_salao_festas tem_sauna tem_bicicletario tem_salao_jogos  \\\n",
       "0  Salão de festas      None             None            None   \n",
       "\n",
       "  tem_varanda_gourmet tem_ar_condicionado tem_espaco_pet tem_closet  \n",
       "0                None                None           None       None  \n",
       "\n",
       "[1 rows x 30 columns]"
      ]
     },
     "execution_count": 13,
     "metadata": {},
     "output_type": "execute_result"
    }
   ],
   "source": [
    "outras_variaveis = ['49 m²',\n",
    " '2 quartos',\n",
    " '1 banheiro',\n",
    " '1 vaga',\n",
    " '11 andar',\n",
    " 'Mobiliado',\n",
    " 'Aceita animais',\n",
    " 'Piscina',\n",
    " 'Varanda',\n",
    " 'Elevador',\n",
    " 'Churrasqueira',\n",
    " 'Academia',\n",
    " 'Playground',\n",
    " 'Quadra poliesportiva',\n",
    " 'Salão de festas',\n",
    " 'Jardim',\n",
    " 'Portaria 24h']\n",
    "\n",
    "linha_dataframe = pd.DataFrame({\n",
    "                                    'valor_venda': None,\n",
    "                                    'valor_condominio': None,\n",
    "                                    'valor_iptu': None,\n",
    "                                    'area': None,\n",
    "                                    'quartos': None,\n",
    "                                    'banheiros': None,\n",
    "                                    'vagas': None,\n",
    "                                    'suites': None,\n",
    "                                    'endereco': None,\n",
    "                                    'pavimento': None,\n",
    "                                    'tem_quarto_empregado': None,\n",
    "                                    'tem_area_servico': None,\n",
    "                                    'tem_deposito': None,\n",
    "                                    'mobiliado': None,\n",
    "                                    'tem_piscina': None,\n",
    "                                    'tem_elevador': None,\n",
    "                                    'area_de_lazer': None,\n",
    "                                    'tem_academia': None,\n",
    "                                    'tem_churrasqueira': None,\n",
    "                                    'tem_lavanderia': None,\n",
    "                                    'tem_playground': None,\n",
    "                                    'tem_quadra': None,\n",
    "                                    'tem_salao_festas': None,\n",
    "                                    'tem_sauna': None,\n",
    "                                    'tem_bicicletario': None,\n",
    "                                    'tem_salao_jogos': None,\n",
    "                                    'tem_varanda_gourmet': None,\n",
    "                                    'tem_ar_condicionado': None,\n",
    "                                    'tem_espaco_pet': None,\n",
    "                                    'tem_closet': None,\n",
    "                                    }, index=[0])\n",
    "for item in outras_variaveis:\n",
    "    for chave, valor in dict_str_var.items():\n",
    "        if chave in item:\n",
    "            linha_dataframe[valor] = item\n",
    "\n",
    "\n",
    "\n",
    "linha_dataframe"
   ]
  },
  {
   "cell_type": "code",
   "execution_count": 47,
   "metadata": {},
   "outputs": [],
   "source": [
    "def preencher_linha_empreendimento(dict_ref, index, link, v_venda, v_condominio, v_iptu, endereco, outras_variaveis):\n",
    "    \n",
    "    linha_dataframe = pd.DataFrame({\n",
    "                                    'valor_venda': v_venda,\n",
    "                                    'valor_condominio': v_condominio,\n",
    "                                    'valor_iptu': v_iptu,\n",
    "                                    'endereco': endereco,\n",
    "                                    'area': None,\n",
    "                                    'quartos': None,\n",
    "                                    'banheiros': None,\n",
    "                                    'vagas': None,\n",
    "                                    'suites': None,\n",
    "                                    'pavimento': None,\n",
    "                                    'tem_quarto_empregado': None,\n",
    "                                    'tem_area_servico': None,\n",
    "                                    'tem_deposito': None,\n",
    "                                    'mobiliado': None,\n",
    "                                    'tem_piscina': None,\n",
    "                                    'tem_elevador': None,\n",
    "                                    'area_de_lazer': None,\n",
    "                                    'tem_academia': None,\n",
    "                                    'tem_churrasqueira': None,\n",
    "                                    'tem_lavanderia': None,\n",
    "                                    'tem_playground': None,\n",
    "                                    'tem_quadra': None,\n",
    "                                    'tem_salao_festas': None,\n",
    "                                    'tem_sauna': None,\n",
    "                                    'tem_bicicletario': None,\n",
    "                                    'tem_salao_jogos': None,\n",
    "                                    'tem_varanda_gourmet': None,\n",
    "                                    'tem_ar_condicionado': None,\n",
    "                                    'tem_espaco_pet': None,\n",
    "                                    'tem_closet': None,\n",
    "                                    'link': link},\n",
    "                                    index = [0])\n",
    "    \n",
    "    for item in outras_variaveis:\n",
    "        for chave, valor in dict_ref.items():\n",
    "            if chave in item:\n",
    "                linha_dataframe[valor] = item\n",
    "    \n",
    "    return linha_dataframe"
   ]
  },
  {
   "cell_type": "code",
   "execution_count": 42,
   "metadata": {},
   "outputs": [],
   "source": [
    "def pega_conteudo_pagina(index, link, dict_ref):\n",
    "    driver = webdriver.Chrome()\n",
    "    driver.get(link)\n",
    "\n",
    "    # Click the button using the specified XPath\n",
    "    button = driver.find_element(By.XPATH, '/html/body/div[2]/div[1]/div[1]/div[1]/div[4]/div/a')\n",
    "    ActionChains(driver).move_to_element(button).click(button).perform()\n",
    "\n",
    "    # Optionally wait for the page to load new content after clicking\n",
    "    time.sleep(2)  # adjust sleep time as needed, or use WebDriverWait for better control\n",
    "\n",
    "    elements = driver.find_elements(By.XPATH, '//span[@class=\"amenities-item-text\" and @data-cy=\"ldp-propertyFeatures-txt\"]')\n",
    "\n",
    "    outras_variaveis = []\n",
    "    for element in elements:\n",
    "        outras_variaveis.append(element.text)\n",
    "\n",
    "    v_venda = driver.find_element(By.XPATH, '/html/body/div[2]/div[1]/div[1]/div[1]/div[3]/div/div[1]/div[1]/p[2]').text\n",
    "    v_condominio = driver.find_element(By.XPATH, '//*[@id=\"condo-fee-price\"]').text\n",
    "    v_iptu = driver.find_element(By.XPATH, '//*[@id=\"iptu-price\"]').text\n",
    "    endereco = driver.find_element(By.XPATH, '/html/body/div[2]/div[1]/div[1]/div[1]/div[5]/div[1]/p').text\n",
    "    print(endereco)\n",
    "\n",
    "    linha_dataframe = preencher_linha_empreendimento(dict_ref, index, link, v_venda, v_condominio, v_iptu, endereco, outras_variaveis)\n",
    "\n",
    "    driver.close()\n",
    "    return linha_dataframe"
   ]
  },
  {
   "cell_type": "code",
   "execution_count": 16,
   "metadata": {},
   "outputs": [],
   "source": [
    "df = pd.read_csv('links.csv')"
   ]
  },
  {
   "cell_type": "code",
   "execution_count": 17,
   "metadata": {},
   "outputs": [
    {
     "name": "stderr",
     "output_type": "stream",
     "text": [
      "C:\\Users\\Pichau\\AppData\\Local\\Temp\\ipykernel_18784\\1057178829.py:4: FutureWarning: Series.__getitem__ treating keys as positions is deprecated. In a future version, integer keys will always be treated as labels (consistent with DataFrame behavior). To access a value by position, use `ser.iloc[pos]`\n",
      "  str_links = df.iloc[0][1]\n"
     ]
    }
   ],
   "source": [
    "todos_os_links = []\n",
    "\n",
    "for links_crus in df['Link'].values:\n",
    "    str_links = df.iloc[0][1]\n",
    "    lista = str_links.split(',')\n",
    "    lista = [link.replace(\"'\",'') for link in lista]\n",
    "    lista = [link.replace(\"[\",'') for link in lista]\n",
    "    lista = [link.strip() for link in lista]\n",
    "    [todos_os_links.append(link) for link in lista]"
   ]
  },
  {
   "cell_type": "code",
   "execution_count": 18,
   "metadata": {},
   "outputs": [
    {
     "data": {
      "text/plain": [
       "6600"
      ]
     },
     "execution_count": 18,
     "metadata": {},
     "output_type": "execute_result"
    }
   ],
   "source": [
    "len(todos_os_links)"
   ]
  },
  {
   "cell_type": "code",
   "execution_count": 48,
   "metadata": {},
   "outputs": [
    {
     "name": "stdout",
     "output_type": "stream",
     "text": [
      "Rua Cuiabá, 55 - Móoca, São Paulo - SP\n",
      "0\n",
      "Rua Constantino de Sousa, 155 - Campo Belo, São Paulo - SP\n",
      "1\n"
     ]
    }
   ],
   "source": [
    "dataframe = pd.DataFrame()\n",
    "for index, link in enumerate(todos_os_links[:2]):\n",
    "    #try:\n",
    "        linha_dataframe = pega_conteudo_pagina(index, link, dict_str_var)\n",
    "        dataframe = pd.concat([dataframe, linha_dataframe])\n",
    "    #except:\n",
    "        print(index)"
   ]
  },
  {
   "cell_type": "code",
   "execution_count": 49,
   "metadata": {},
   "outputs": [
    {
     "data": {
      "text/html": [
       "<div>\n",
       "<style scoped>\n",
       "    .dataframe tbody tr th:only-of-type {\n",
       "        vertical-align: middle;\n",
       "    }\n",
       "\n",
       "    .dataframe tbody tr th {\n",
       "        vertical-align: top;\n",
       "    }\n",
       "\n",
       "    .dataframe thead th {\n",
       "        text-align: right;\n",
       "    }\n",
       "</style>\n",
       "<table border=\"1\" class=\"dataframe\">\n",
       "  <thead>\n",
       "    <tr style=\"text-align: right;\">\n",
       "      <th></th>\n",
       "      <th>valor_venda</th>\n",
       "      <th>valor_condominio</th>\n",
       "      <th>valor_iptu</th>\n",
       "      <th>endereco</th>\n",
       "      <th>area</th>\n",
       "      <th>quartos</th>\n",
       "      <th>banheiros</th>\n",
       "      <th>vagas</th>\n",
       "      <th>suites</th>\n",
       "      <th>pavimento</th>\n",
       "      <th>...</th>\n",
       "      <th>tem_quadra</th>\n",
       "      <th>tem_salao_festas</th>\n",
       "      <th>tem_sauna</th>\n",
       "      <th>tem_bicicletario</th>\n",
       "      <th>tem_salao_jogos</th>\n",
       "      <th>tem_varanda_gourmet</th>\n",
       "      <th>tem_ar_condicionado</th>\n",
       "      <th>tem_espaco_pet</th>\n",
       "      <th>tem_closet</th>\n",
       "      <th>link</th>\n",
       "    </tr>\n",
       "  </thead>\n",
       "  <tbody>\n",
       "    <tr>\n",
       "      <th>0</th>\n",
       "      <td>R$ 978.500</td>\n",
       "      <td>R$ 1.000</td>\n",
       "      <td>R$ 2.500</td>\n",
       "      <td>Rua Cuiabá, 55 - Móoca, São Paulo - SP</td>\n",
       "      <td>80 m²</td>\n",
       "      <td>2 quartos</td>\n",
       "      <td>3 banheiros</td>\n",
       "      <td>2 vagas</td>\n",
       "      <td>1 suíte</td>\n",
       "      <td>None</td>\n",
       "      <td>...</td>\n",
       "      <td>Quadra poliesportiva</td>\n",
       "      <td>Salão de festas</td>\n",
       "      <td>Sauna</td>\n",
       "      <td>Bicicletário</td>\n",
       "      <td>Salão de jogos</td>\n",
       "      <td>Varanda gourmet</td>\n",
       "      <td>Ar-condicionado</td>\n",
       "      <td>None</td>\n",
       "      <td>None</td>\n",
       "      <td>https://www.zapimoveis.com.br/imovel/venda-apa...</td>\n",
       "    </tr>\n",
       "    <tr>\n",
       "      <th>0</th>\n",
       "      <td>R$ 2.010.000</td>\n",
       "      <td>R$ 1.000</td>\n",
       "      <td>R$ 120</td>\n",
       "      <td>Rua Constantino de Sousa, 155 - Campo Belo, Sã...</td>\n",
       "      <td>135 m²</td>\n",
       "      <td>3 quartos</td>\n",
       "      <td>5 banheiros</td>\n",
       "      <td>2 vagas</td>\n",
       "      <td>3 suítes</td>\n",
       "      <td>4 andar</td>\n",
       "      <td>...</td>\n",
       "      <td>None</td>\n",
       "      <td>Salão de festas</td>\n",
       "      <td>None</td>\n",
       "      <td>None</td>\n",
       "      <td>Salão de jogos</td>\n",
       "      <td>Varanda gourmet</td>\n",
       "      <td>Ar-condicionado</td>\n",
       "      <td>Espaço Pet</td>\n",
       "      <td>Closet</td>\n",
       "      <td>https://www.zapimoveis.com.br/imovel/venda-apa...</td>\n",
       "    </tr>\n",
       "  </tbody>\n",
       "</table>\n",
       "<p>2 rows × 31 columns</p>\n",
       "</div>"
      ],
      "text/plain": [
       "    valor_venda valor_condominio valor_iptu  \\\n",
       "0    R$ 978.500         R$ 1.000   R$ 2.500   \n",
       "0  R$ 2.010.000         R$ 1.000     R$ 120   \n",
       "\n",
       "                                            endereco    area    quartos  \\\n",
       "0             Rua Cuiabá, 55 - Móoca, São Paulo - SP   80 m²  2 quartos   \n",
       "0  Rua Constantino de Sousa, 155 - Campo Belo, Sã...  135 m²  3 quartos   \n",
       "\n",
       "     banheiros    vagas    suites pavimento  ...            tem_quadra  \\\n",
       "0  3 banheiros  2 vagas   1 suíte      None  ...  Quadra poliesportiva   \n",
       "0  5 banheiros  2 vagas  3 suítes   4 andar  ...                  None   \n",
       "\n",
       "  tem_salao_festas tem_sauna tem_bicicletario tem_salao_jogos  \\\n",
       "0  Salão de festas     Sauna     Bicicletário  Salão de jogos   \n",
       "0  Salão de festas      None             None  Salão de jogos   \n",
       "\n",
       "  tem_varanda_gourmet tem_ar_condicionado tem_espaco_pet tem_closet  \\\n",
       "0     Varanda gourmet     Ar-condicionado           None       None   \n",
       "0     Varanda gourmet     Ar-condicionado     Espaço Pet     Closet   \n",
       "\n",
       "                                                link  \n",
       "0  https://www.zapimoveis.com.br/imovel/venda-apa...  \n",
       "0  https://www.zapimoveis.com.br/imovel/venda-apa...  \n",
       "\n",
       "[2 rows x 31 columns]"
      ]
     },
     "execution_count": 49,
     "metadata": {},
     "output_type": "execute_result"
    }
   ],
   "source": [
    "dataframe"
   ]
  }
 ],
 "metadata": {
  "kernelspec": {
   "display_name": "Python 3",
   "language": "python",
   "name": "python3"
  },
  "language_info": {
   "codemirror_mode": {
    "name": "ipython",
    "version": 3
   },
   "file_extension": ".py",
   "mimetype": "text/x-python",
   "name": "python",
   "nbconvert_exporter": "python",
   "pygments_lexer": "ipython3",
   "version": "3.12.4"
  }
 },
 "nbformat": 4,
 "nbformat_minor": 2
}
